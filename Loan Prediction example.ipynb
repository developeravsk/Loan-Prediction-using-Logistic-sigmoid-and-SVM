{
 "cells": [
  {
   "cell_type": "code",
   "execution_count": 121,
   "metadata": {},
   "outputs": [],
   "source": [
    "import pandas as pd\n",
    "import numpy as np                     \n",
    "import seaborn as sns                  \n",
    "import matplotlib.pyplot as plt\n",
    "from sklearn import svm\n",
    "from sklearn.svm import SVC\n",
    "from scipy.io import loadmat\n",
    "import warnings\n",
    "warnings.filterwarnings(\"ignore\")"
   ]
  },
  {
   "cell_type": "code",
   "execution_count": 122,
   "metadata": {},
   "outputs": [],
   "source": [
    "# Importing dataset\n",
    "data_train = pd.read_csv('train_LoanPrediction.csv') #shape 614*13\n",
    "data_test = pd.read_csv('test_LoanPrediction.csv') #367*12\n",
    "#One column of data_train is the y value\n"
   ]
  },
  {
   "cell_type": "code",
   "execution_count": 123,
   "metadata": {},
   "outputs": [
    {
     "name": "stdout",
     "output_type": "stream",
     "text": [
      "('Missing values for train data \\n ------------------------\\n', Loan_ID               0\n",
      "Gender               13\n",
      "Married               3\n",
      "Dependents           15\n",
      "Education             0\n",
      "Self_Employed        32\n",
      "ApplicantIncome       0\n",
      "CoapplicantIncome     0\n",
      "LoanAmount           22\n",
      "Loan_Amount_Term     14\n",
      "Credit_History       50\n",
      "Property_Area         0\n",
      "Loan_Status           0\n",
      "dtype: int64)\n",
      "('Missing values for test data \\n ------------------------\\n', Loan_ID               0\n",
      "Gender               11\n",
      "Married               0\n",
      "Dependents           10\n",
      "Education             0\n",
      "Self_Employed        23\n",
      "ApplicantIncome       0\n",
      "CoapplicantIncome     0\n",
      "LoanAmount            5\n",
      "Loan_Amount_Term      6\n",
      "Credit_History       29\n",
      "Property_Area         0\n",
      "dtype: int64)\n"
     ]
    }
   ],
   "source": [
    "# checking NaN values\n",
    "print('Missing values for train data \\n ------------------------\\n', data_train.isnull().sum())\n",
    "\n",
    "print('Missing values for test data \\n ------------------------\\n', data_test.isnull().sum())\n"
   ]
  },
  {
   "cell_type": "markdown",
   "metadata": {},
   "source": [
    "### Filling Gender\n"
   ]
  },
  {
   "cell_type": "code",
   "execution_count": 124,
   "metadata": {},
   "outputs": [
    {
     "name": "stdout",
     "output_type": "stream",
     "text": [
      "Male      489\n",
      "Female    112\n",
      "Name: Gender, dtype: int64\n"
     ]
    }
   ],
   "source": [
    "# Train Categorical Variables Missisng values\n",
    "print(data_train['Gender'].value_counts())\n",
    "gender = data_train['Gender'].value_counts()\n"
   ]
  },
  {
   "cell_type": "code",
   "execution_count": 125,
   "metadata": {},
   "outputs": [
    {
     "name": "stdout",
     "output_type": "stream",
     "text": [
      "Male      489\n",
      "Female    112\n",
      "Name: Gender, dtype: int64\n",
      "('Male ratio ', 0)\n",
      "Male      499\n",
      "Female    115\n",
      "Name: Gender, dtype: int64\n",
      "Male      295\n",
      "Female     72\n",
      "Name: Gender, dtype: int64\n"
     ]
    }
   ],
   "source": [
    "print(data_train['Gender'].value_counts())\n",
    "gender = data_train['Gender'].value_counts()\n",
    "#print('unique values in gender feature', gender.shape)\n",
    "print('Male ratio ', gender[0]/sum(gender.values))\n",
    "def fill_Gender(yes_num_train, no_num_train, yes_num_test, no_num_test):        \n",
    "    data_train['Gender'].fillna('Male', inplace=True, limit = yes_num_train)\n",
    "    data_train['Gender'].fillna('Female', inplace=True, limit = no_num_train)\n",
    "    data_test['Gender'].fillna('Male', inplace=True, limit = yes_num_test)\n",
    "    data_test['Gender'].fillna('Female', inplace=True, limit = no_num_test)\n",
    "fill_Gender(10,3,9,2)    \n",
    "print(data_train['Gender'].value_counts()) \n",
    "print(data_test['Gender'].value_counts()) "
   ]
  },
  {
   "cell_type": "markdown",
   "metadata": {},
   "source": [
    "### Filling Married"
   ]
  },
  {
   "cell_type": "code",
   "execution_count": 126,
   "metadata": {},
   "outputs": [
    {
     "name": "stdout",
     "output_type": "stream",
     "text": [
      "Yes    398\n",
      "No     213\n",
      "Name: Married, dtype: int64\n"
     ]
    }
   ],
   "source": [
    "print(data_train['Married'].value_counts())\n",
    "married = data_train['Married'].value_counts()"
   ]
  },
  {
   "cell_type": "code",
   "execution_count": 127,
   "metadata": {},
   "outputs": [
    {
     "name": "stdout",
     "output_type": "stream",
     "text": [
      "Yes    400\n",
      "No     214\n",
      "Name: Married, dtype: int64\n"
     ]
    }
   ],
   "source": [
    "def fill_martial_status(yes_num_train, no_num_train):        \n",
    "    data_train['Married'].fillna('Yes', inplace=True, limit = yes_num_train)\n",
    "    data_train['Married'].fillna('No', inplace=True, limit = no_num_train)    \n",
    "fill_martial_status(2,1)    \n",
    "print(data_train['Married'].value_counts()) "
   ]
  },
  {
   "cell_type": "markdown",
   "metadata": {},
   "source": [
    "### Fillling Dependents"
   ]
  },
  {
   "cell_type": "code",
   "execution_count": 128,
   "metadata": {},
   "outputs": [
    {
     "name": "stdout",
     "output_type": "stream",
     "text": [
      "0     345\n",
      "1     102\n",
      "2     101\n",
      "3+     51\n",
      "Name: Dependents, dtype: int64\n"
     ]
    }
   ],
   "source": [
    "print(data_train['Dependents'].value_counts())\n",
    "dependent = data_train['Dependents'].value_counts()\n"
   ]
  },
  {
   "cell_type": "code",
   "execution_count": 129,
   "metadata": {},
   "outputs": [
    {
     "name": "stdout",
     "output_type": "stream",
     "text": [
      "0     354\n",
      "2     105\n",
      "1     104\n",
      "3+     51\n",
      "Name: Dependents, dtype: int64\n"
     ]
    }
   ],
   "source": [
    "def fill_dependent_status(num_0_train, num_1_train, num_2_train, num_3_train, num_0_test, num_1_test, num_2_test, num_3_test):        \n",
    "    data_train['Dependents'].fillna('0', inplace=True, limit = num_0_train)\n",
    "    data_train['Dependents'].fillna('1', inplace=True, limit = num_1_train)\n",
    "    data_train['Dependents'].fillna('2', inplace=True, limit = num_0_train)\n",
    "    data_train['Dependents'].fillna('3+', inplace=True, limit = num_1_train)\n",
    "    data_test['Dependents'].fillna('0', inplace=True, limit = num_0_test)\n",
    "    data_test['Dependents'].fillna('1', inplace=True, limit = num_1_test)\n",
    "    data_test['Dependents'].fillna('2', inplace=True, limit = num_0_test)\n",
    "    data_test['Dependents'].fillna('3+', inplace=True, limit = num_1_test)\n",
    "fill_dependent_status(9,2,2,2, 5,2,2,1)    \n",
    "print(data_train['Dependents'].value_counts())"
   ]
  },
  {
   "cell_type": "code",
   "execution_count": 130,
   "metadata": {},
   "outputs": [],
   "source": [
    "#converting 3+ to a number\n",
    "\n",
    "# Converting the values to number\n",
    "data_train['Dependents'].replace('3+', 3,inplace=True)\n",
    "data_test['Dependents'].replace('3+', 3,inplace=True)"
   ]
  },
  {
   "cell_type": "markdown",
   "metadata": {},
   "source": [
    "### Filling self employed"
   ]
  },
  {
   "cell_type": "code",
   "execution_count": 131,
   "metadata": {},
   "outputs": [
    {
     "name": "stdout",
     "output_type": "stream",
     "text": [
      "No     500\n",
      "Yes     82\n",
      "Name: Self_Employed, dtype: int64\n"
     ]
    }
   ],
   "source": [
    "print(data_train['Self_Employed'].value_counts())\n",
    "employment = data_train['Self_Employed'].value_counts()"
   ]
  },
  {
   "cell_type": "code",
   "execution_count": 132,
   "metadata": {},
   "outputs": [
    {
     "name": "stdout",
     "output_type": "stream",
     "text": [
      "No     527\n",
      "Yes     87\n",
      "Name: Self_Employed, dtype: int64\n"
     ]
    }
   ],
   "source": [
    "def fill_Self_Employed(yes_num_train, no_num_train, yes_num_test, no_num_test):        \n",
    "    data_train['Self_Employed'].fillna('No', inplace=True, limit = yes_num_train)\n",
    "    data_train['Self_Employed'].fillna('Yes', inplace=True, limit = no_num_train)\n",
    "    data_test['Self_Employed'].fillna('No', inplace=True, limit = yes_num_test)\n",
    "    data_test['Self_Employed'].fillna('Yes', inplace=True, limit = no_num_test)\n",
    "fill_Self_Employed(27,5,19,4)    \n",
    "print(data_train['Self_Employed'].value_counts())"
   ]
  },
  {
   "cell_type": "markdown",
   "metadata": {},
   "source": [
    "### Filling loan amount"
   ]
  },
  {
   "cell_type": "code",
   "execution_count": 133,
   "metadata": {},
   "outputs": [
    {
     "name": "stdout",
     "output_type": "stream",
     "text": [
      "120.0    20\n",
      "110.0    17\n",
      "100.0    15\n",
      "187.0    12\n",
      "160.0    12\n",
      "128.0    11\n",
      "113.0    11\n",
      "130.0    10\n",
      "96.0      9\n",
      "95.0      9\n",
      "70.0      8\n",
      "115.0     8\n",
      "112.0     8\n",
      "150.0     7\n",
      "135.0     7\n",
      "136.0     7\n",
      "132.0     7\n",
      "125.0     7\n",
      "104.0     7\n",
      "80.0      6\n",
      "81.0      6\n",
      "138.0     6\n",
      "90.0      6\n",
      "158.0     6\n",
      "116.0     6\n",
      "175.0     6\n",
      "144.0     6\n",
      "155.0     6\n",
      "180.0     6\n",
      "152.0     5\n",
      "         ..\n",
      "315.0     1\n",
      "101.0     1\n",
      "73.0      1\n",
      "142.0     1\n",
      "48.0      1\n",
      "164.0     1\n",
      "83.0      1\n",
      "191.0     1\n",
      "166.0     1\n",
      "495.0     1\n",
      "59.0      1\n",
      "214.0     1\n",
      "240.0     1\n",
      "72.0      1\n",
      "42.0      1\n",
      "349.0     1\n",
      "280.0     1\n",
      "405.0     1\n",
      "279.0     1\n",
      "304.0     1\n",
      "650.0     1\n",
      "436.0     1\n",
      "78.0      1\n",
      "54.0      1\n",
      "89.0      1\n",
      "570.0     1\n",
      "300.0     1\n",
      "376.0     1\n",
      "117.0     1\n",
      "311.0     1\n",
      "Name: LoanAmount, Length: 203, dtype: int64\n"
     ]
    }
   ],
   "source": [
    "print(data_train['LoanAmount'].value_counts())\n",
    "LoanAmt = data_train['LoanAmount'].value_counts()"
   ]
  },
  {
   "cell_type": "code",
   "execution_count": 134,
   "metadata": {},
   "outputs": [],
   "source": [
    "loan_amount_mean = np.mean(data_train[\"LoanAmount\"])\n",
    "data_train['LoanAmount'].fillna(loan_amount_mean, inplace=True, limit = 22)\n",
    "data_test['LoanAmount'].fillna(loan_amount_mean, inplace=True, limit = 5)"
   ]
  },
  {
   "cell_type": "markdown",
   "metadata": {},
   "source": [
    "### Filling loan_amount_term"
   ]
  },
  {
   "cell_type": "code",
   "execution_count": 135,
   "metadata": {},
   "outputs": [
    {
     "name": "stdout",
     "output_type": "stream",
     "text": [
      "360.0    512\n",
      "180.0     44\n",
      "480.0     15\n",
      "300.0     13\n",
      "84.0       4\n",
      "240.0      4\n",
      "120.0      3\n",
      "36.0       2\n",
      "60.0       2\n",
      "12.0       1\n",
      "Name: Loan_Amount_Term, dtype: int64\n",
      "('unique values in Loan Amount Term variable', array([360., 120., 240.,  nan, 180.,  60., 300., 480.,  36.,  84.,  12.]))\n"
     ]
    }
   ],
   "source": [
    "print(data_train['Loan_Amount_Term'].value_counts())\n",
    "LoanAmt = data_train['Loan_Amount_Term'].value_counts()\n",
    "print('unique values in Loan Amount Term variable', data_train['Loan_Amount_Term'].unique())\n",
    "loan_term_mean = np.mean(data_train[\"Loan_Amount_Term\"])\n",
    "data_train['Loan_Amount_Term'].fillna(loan_term_mean, inplace=True, limit = 14)\n",
    "data_test['Loan_Amount_Term'].fillna(loan_term_mean, inplace=True, limit = 6)"
   ]
  },
  {
   "cell_type": "markdown",
   "metadata": {},
   "source": [
    "### Filling credit history"
   ]
  },
  {
   "cell_type": "code",
   "execution_count": 136,
   "metadata": {},
   "outputs": [
    {
     "name": "stdout",
     "output_type": "stream",
     "text": [
      "1.0    475\n",
      "0.0     89\n",
      "Name: Credit_History, dtype: int64\n",
      "('unique values in Credit_History variable', array([ 1.,  0., nan]))\n"
     ]
    }
   ],
   "source": [
    "print(data_train['Credit_History'].value_counts())\n",
    "Credit_History = data_train['Credit_History'].value_counts()\n",
    "print('unique values in Credit_History variable', data_train['Credit_History'].unique())\n",
    "\n",
    "data_train['Credit_History'].fillna('0.0', inplace=True, limit = 8)\n",
    "data_train['Credit_History'].fillna('1.0', inplace=True, limit = 42)\n",
    "data_test['Credit_History'].fillna('0.0', inplace=True, limit = 4)\n",
    "data_test['Credit_History'].fillna('1.0', inplace=True, limit = 25)"
   ]
  },
  {
   "cell_type": "code",
   "execution_count": 137,
   "metadata": {},
   "outputs": [
    {
     "name": "stdout",
     "output_type": "stream",
     "text": [
      "('Missing values for train data \\n ------------------------\\n', Loan_ID              0\n",
      "Gender               0\n",
      "Married              0\n",
      "Dependents           0\n",
      "Education            0\n",
      "Self_Employed        0\n",
      "ApplicantIncome      0\n",
      "CoapplicantIncome    0\n",
      "LoanAmount           0\n",
      "Loan_Amount_Term     0\n",
      "Credit_History       0\n",
      "Property_Area        0\n",
      "Loan_Status          0\n",
      "dtype: int64)\n",
      "('Missing values for test data \\n ------------------------\\n', Loan_ID              0\n",
      "Gender               0\n",
      "Married              0\n",
      "Dependents           0\n",
      "Education            0\n",
      "Self_Employed        0\n",
      "ApplicantIncome      0\n",
      "CoapplicantIncome    0\n",
      "LoanAmount           0\n",
      "Loan_Amount_Term     0\n",
      "Credit_History       0\n",
      "Property_Area        0\n",
      "dtype: int64)\n"
     ]
    }
   ],
   "source": [
    "print('Missing values for train data \\n ------------------------\\n', data_train.isnull().sum())\n",
    "\n",
    "print('Missing values for test data \\n ------------------------\\n', data_test.isnull().sum())\n"
   ]
  },
  {
   "cell_type": "code",
   "execution_count": 138,
   "metadata": {},
   "outputs": [],
   "source": [
    "# Separting the Variable into Independent and Dependent \n",
    "# from 0-12 we leave 0 and 12\n",
    "X = data_train.iloc[:, 1:-1].values\n",
    "y = data_train.iloc[:, -1].values\n",
    "\n",
    "X_test = data_test.iloc[:, 1:12].values"
   ]
  },
  {
   "cell_type": "code",
   "execution_count": null,
   "metadata": {},
   "outputs": [],
   "source": []
  },
  {
   "cell_type": "code",
   "execution_count": 139,
   "metadata": {},
   "outputs": [],
   "source": [
    "# Converting Categorical variables into enumeration \n",
    "from sklearn.preprocessing import LabelEncoder\n",
    "\n",
    "labelencoder_X = LabelEncoder()"
   ]
  },
  {
   "cell_type": "code",
   "execution_count": 140,
   "metadata": {},
   "outputs": [],
   "source": [
    "\n",
    "# Gender\n",
    "X[:,0] = labelencoder_X.fit_transform(X[:,0])\n",
    "X_test[:,0] = labelencoder_X.fit_transform(X_test[:,0])\n"
   ]
  },
  {
   "cell_type": "code",
   "execution_count": 141,
   "metadata": {},
   "outputs": [],
   "source": [
    "# Marraige\n",
    "X[:,1] = labelencoder_X.fit_transform(X[:,1])\n",
    "X_test[:,1] = labelencoder_X.fit_transform(X_test[:,1])"
   ]
  },
  {
   "cell_type": "code",
   "execution_count": 142,
   "metadata": {},
   "outputs": [],
   "source": [
    "# Education\n",
    "X[:,3] = labelencoder_X.fit_transform(X[:,3])\n",
    "X_test[:,3] = labelencoder_X.fit_transform(X_test[:,3])"
   ]
  },
  {
   "cell_type": "code",
   "execution_count": 143,
   "metadata": {},
   "outputs": [],
   "source": [
    "# Self Employed\n",
    "X[:,4] = labelencoder_X.fit_transform(X[:,4])\n",
    "X_test[:,4] = labelencoder_X.fit_transform(X_test[:,4])"
   ]
  },
  {
   "cell_type": "code",
   "execution_count": 144,
   "metadata": {},
   "outputs": [],
   "source": [
    "\n",
    "# Property Area\n",
    "X[:,10] = labelencoder_X.fit_transform(X[:,10])\n",
    "X_test[:,10] = labelencoder_X.fit_transform(X_test[:,10])\n"
   ]
  },
  {
   "cell_type": "code",
   "execution_count": 145,
   "metadata": {},
   "outputs": [],
   "source": [
    "# Feature Scaling\n",
    "from sklearn.preprocessing import StandardScaler\n",
    "sc = StandardScaler()\n",
    "X = sc.fit_transform(X)\n",
    "X_test = sc.fit_transform(X_test)\n"
   ]
  },
  {
   "cell_type": "markdown",
   "metadata": {},
   "source": [
    "## Logistic Regression"
   ]
  },
  {
   "cell_type": "code",
   "execution_count": 146,
   "metadata": {},
   "outputs": [
    {
     "data": {
      "text/plain": [
       "LogisticRegression(C=1.0, class_weight=None, dual=False, fit_intercept=True,\n",
       "          intercept_scaling=1, max_iter=100, multi_class='warn',\n",
       "          n_jobs=None, penalty='l2', random_state=0, solver='warn',\n",
       "          tol=0.0001, verbose=0, warm_start=False)"
      ]
     },
     "execution_count": 146,
     "metadata": {},
     "output_type": "execute_result"
    }
   ],
   "source": [
    "# Fitting Logistic Regression to our training set\n",
    "from sklearn.linear_model import LogisticRegression\n",
    "classifier = LogisticRegression(random_state=0)\n",
    "classifier.fit(X, y)"
   ]
  },
  {
   "cell_type": "code",
   "execution_count": 147,
   "metadata": {},
   "outputs": [
    {
     "name": "stdout",
     "output_type": "stream",
     "text": [
      "('Accuracy Logistic regression: ', 0.8127035830618893)\n"
     ]
    }
   ],
   "source": [
    "# Predecting the results\n",
    "y_pred = classifier.predict(X)\n",
    "\n",
    "# Check Accuracy \n",
    "from sklearn.metrics import accuracy_score\n",
    "print('Accuracy Logistic regression: ', accuracy_score(y,y_pred))"
   ]
  },
  {
   "cell_type": "markdown",
   "metadata": {},
   "source": [
    "## Radial Based Kernel SVM"
   ]
  },
  {
   "cell_type": "code",
   "execution_count": 154,
   "metadata": {},
   "outputs": [],
   "source": [
    "# Predecting the test results\n",
    "y_pred_test = classifier.predict(X_test)"
   ]
  },
  {
   "cell_type": "code",
   "execution_count": 155,
   "metadata": {},
   "outputs": [],
   "source": [
    "predict_loan = np.array([np.array(data_test)[:,0], y_pred_test])\n",
    "predict_loan = pd.DataFrame(predict_loan.T)"
   ]
  },
  {
   "cell_type": "code",
   "execution_count": 156,
   "metadata": {},
   "outputs": [
    {
     "name": "stdout",
     "output_type": "stream",
     "text": [
      "('Accuracy SVM RBF kernel: ', 0.9820846905537459)\n"
     ]
    }
   ],
   "source": [
    "#--------------------------------------------------------------------\n",
    "def svmTrainLinear(X, y, C, kernelFunction, tol=1e-3, max_passes=-1, sigma=0.1):\n",
    "    \"\"\"Trains an SVM classifier\"\"\"    \n",
    "    y = y.flatten()\n",
    "    clf = svm.SVC(C = C, kernel=kernelFunction, tol=tol, max_iter=max_passes, verbose=2)\n",
    "    return clf.fit(X, y)   \n",
    "\n",
    "rbf_model = SVC(kernel=\"rbf\",gamma=30)\n",
    "rbf_model.fit(X,y.ravel())\n",
    "y_pred_rbf = rbf_model.predict(X)\n",
    "print('Accuracy SVM RBF kernel: ', accuracy_score(y,y_pred_rbf))"
   ]
  },
  {
   "cell_type": "code",
   "execution_count": 157,
   "metadata": {},
   "outputs": [
    {
     "name": "stdout",
     "output_type": "stream",
     "text": [
      "          0  1\n",
      "0  LP001015  Y\n",
      "1  LP001022  Y\n",
      "2  LP001031  Y\n",
      "3  LP001035  N\n",
      "4  LP001051  Y\n"
     ]
    }
   ],
   "source": [
    "# Predecting the test results\n",
    "y_pred_test_rbf = classifier.predict(X_test)\n",
    "predict_loan_rbf = np.array([np.array(data_test)[:,0], y_pred_test_rbf])\n",
    "predict_loan_rbf = pd.DataFrame(predict_loan_rbf.T)\n",
    "print(predict_loan_rbf.head())"
   ]
  },
  {
   "cell_type": "markdown",
   "metadata": {},
   "source": [
    "## Linear Kernel SVM"
   ]
  },
  {
   "cell_type": "code",
   "execution_count": 152,
   "metadata": {},
   "outputs": [
    {
     "name": "stdout",
     "output_type": "stream",
     "text": [
      "[LibSVM]('Accuracy SVM linear kernel: ', 0.31433224755700323)\n"
     ]
    }
   ],
   "source": [
    "C = 1\n",
    "linear_model = svmTrainLinear(X, y, C, \"linear\", .0001, 20)\n",
    "y_pred_lnr = linear_model.predict(X)\n",
    "print('Accuracy SVM linear kernel: ', accuracy_score(y,y_pred_lnr))"
   ]
  },
  {
   "cell_type": "code",
   "execution_count": 158,
   "metadata": {},
   "outputs": [
    {
     "name": "stdout",
     "output_type": "stream",
     "text": [
      "          0  1\n",
      "0  LP001015  Y\n",
      "1  LP001022  Y\n",
      "2  LP001031  Y\n",
      "3  LP001035  N\n",
      "4  LP001051  Y\n"
     ]
    }
   ],
   "source": [
    "# Predecting the test results\n",
    "y_pred_test_lnr = classifier.predict(X_test)\n",
    "predict_loan_lnr = np.array([np.array(data_test)[:,0], y_pred_test_lnr])\n",
    "predict_loan_lnr = pd.DataFrame(predict_loan_lnr.T)\n",
    "print(predict_loan_lnr.head())"
   ]
  }
 ],
 "metadata": {
  "kernelspec": {
   "display_name": "Python 3",
   "language": "python",
   "name": "python3"
  },
  "language_info": {
   "codemirror_mode": {
    "name": "ipython",
    "version": 2
   },
   "file_extension": ".py",
   "mimetype": "text/x-python",
   "name": "python",
   "nbconvert_exporter": "python",
   "pygments_lexer": "ipython2",
   "version": "2.7.15+"
  }
 },
 "nbformat": 4,
 "nbformat_minor": 2
}
